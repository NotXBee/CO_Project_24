{
 "cells": [
  {
   "cell_type": "code",
   "execution_count": 8,
   "metadata": {},
   "outputs": [],
   "source": [
    "with open(\"C:\\\\Users\\\\Admin\\\\OneDrive\\\\Documents\\\\CO Project evaluation framework Apr2\\\\CO Project evaluation framework Apr2\\\\automatedTesting\\\\tests\\\\assembly\\\\bin_s\\\\s_test1.txt\",\"r\") as f:\n",
    "    txt = f.read().split(\"\\n\")"
   ]
  },
  {
   "cell_type": "code",
   "execution_count": 87,
   "metadata": {},
   "outputs": [
    {
     "data": {
      "text/plain": [
       "'00000000000000000000010010110011'"
      ]
     },
     "execution_count": 87,
     "metadata": {},
     "output_type": "execute_result"
    }
   ],
   "source": [
    "i = txt[0]\n",
    "i"
   ]
  },
  {
   "cell_type": "code",
   "execution_count": 83,
   "metadata": {},
   "outputs": [
    {
     "data": {
      "text/plain": [
       "{'0110011': 'r_type',\n",
       " '1100011': 'b_type',\n",
       " '0100011': 's_type',\n",
       " '1101111': 'j_type',\n",
       " '0000011': 'lw',\n",
       " '0010011': 'addi/sltiu',\n",
       " '1100111': 'jalr',\n",
       " '0110111': 'lui',\n",
       " '0010111': 'auipc'}"
      ]
     },
     "execution_count": 83,
     "metadata": {},
     "output_type": "execute_result"
    }
   ],
   "source": [
    "opcode_dict = {\"0110011\" : \"r_type\", \"1100011\" : \"b_type\", \"0100011\" : \"s_type\", \"1101111\" : \"j_type\", \"0000011\" : \"lw\", \"0010011\" : \"addi/sltiu\", \"1100111\" : \"jalr\", \"0110111\" : \"lui\", \"0010111\" : \"auipc\"}\n",
    "opcode_dict"
   ]
  },
  {
   "cell_type": "code",
   "execution_count": 89,
   "metadata": {},
   "outputs": [
    {
     "data": {
      "text/plain": [
       "'00000000000000000000010010110011'"
      ]
     },
     "execution_count": 89,
     "metadata": {},
     "output_type": "execute_result"
    }
   ],
   "source": [
    "i"
   ]
  },
  {
   "cell_type": "code",
   "execution_count": 88,
   "metadata": {},
   "outputs": [],
   "source": [
    "def opcode(i):\n",
    "    global opcode_dict\n",
    "    opcode3 = i[-7:]\n",
    "    return opcode_dict[opcode3]\n",
    "\n",
    "\n",
    "opcode2 = opcode(i)"
   ]
  },
  {
   "cell_type": "code",
   "execution_count": 90,
   "metadata": {},
   "outputs": [
    {
     "data": {
      "text/plain": [
       "'add'"
      ]
     },
     "execution_count": 90,
     "metadata": {},
     "output_type": "execute_result"
    }
   ],
   "source": [
    "def r_type(i):\n",
    "    fun7 = i[0:7]\n",
    "    fun3 = i[17:20]\n",
    "    if fun3 == \"000\":\n",
    "        if fun7 == \"0000000\":\n",
    "            return \"add\"\n",
    "        if fun7 == \"0100000\":\n",
    "            return \"sub\"\n",
    "    if fun3 == \"001\":\n",
    "        return \"sll\"\n",
    "    if fun3 == \"010\":\n",
    "        return \"slt\"\n",
    "    if fun3 == \"011\":\n",
    "        return \"sltu\"\n",
    "    if fun3 == \"100\":\n",
    "        return \"xor\"\n",
    "    if fun3 == \"101\":\n",
    "        return \"srl\"\n",
    "    if fun3 == \"110\":\n",
    "        return \"or\"\n",
    "    if fun3 == \"111\":\n",
    "        return \"and\"\n",
    "\n",
    "def b_type(i):\n",
    "    fun3 = i[17:20]\n",
    "    if fun3 == \"000\":\n",
    "        return \"beq\"\n",
    "    if fun3 == \"001\":\n",
    "        return \"bne\"\n",
    "    if fun3 == \"100\":\n",
    "        return \"blt\"\n",
    "    if fun3 == \"101\":\n",
    "        return \"bge\"\n",
    "    if fun3 == \"110\":\n",
    "        return \"bltu\"\n",
    "    if fun3 == \"111\":\n",
    "        return \"bgeu\"\n",
    "    \n",
    "def s_type(i):\n",
    "    fun3 = i[17:20]\n",
    "    if fun3 == \"010\":\n",
    "        return \"sw\"\n",
    "\n",
    "def j_type(i):\n",
    "    return \"jal\"\n",
    "\n",
    "def lw(i):\n",
    "    fun3 = i[17:20]\n",
    "    if fun3 == \"010\":\n",
    "        return \"lw\"\n",
    "def addi_sltiu(i):\n",
    "    fun3 = i[17:20]\n",
    "    if fun3 == \"000\":\n",
    "        return \"addi\"\n",
    "    if fun3 == \"011\":\n",
    "        return \"sltiu\"\n",
    "\n",
    "def jalr(i):\n",
    "    fun3 = i[17:20]\n",
    "    if fun3 == \"000\":\n",
    "        return \"jalr\"\n",
    "def lui(i):\n",
    "    return \"lui\"\n",
    "\n",
    "def auipc(i):\n",
    "    return \"auipc\"\n",
    "\n",
    "\n",
    "def type(i):\n",
    "    \n",
    "    type =  opcode(i)\n",
    "    if type == \"r_type\":\n",
    "        return r_type(i)\n",
    "    if type == \"b_type\":\n",
    "        return b_type(i)\n",
    "    if type == \"s_type\":\n",
    "        return s_type(i)\n",
    "    if type == \"j_type\":\n",
    "        return j_type(i)\n",
    "    if type == \"lw\":\n",
    "        return lw(i)\n",
    "    if type == \"addi/sltiu\":\n",
    "        return addi_sltiu(i)\n",
    "    if type == \"jalr\":\n",
    "        return jalr(i)\n",
    "    if type == \"lui\":\n",
    "        return lui(i)\n",
    "    if type == \"auipc\":\n",
    "        return auipc(i)\n",
    "    \n",
    "type(i)"
   ]
  },
  {
   "cell_type": "code",
   "execution_count": 92,
   "metadata": {},
   "outputs": [
    {
     "name": "stdout",
     "output_type": "stream",
     "text": [
      "00000\n",
      "00000\n",
      "01001\n"
     ]
    }
   ],
   "source": [
    "print(i[7:12])\n",
    "print(i[12:17])\n",
    "print(i[20:25])"
   ]
  }
 ],
 "metadata": {
  "kernelspec": {
   "display_name": "Python 3",
   "language": "python",
   "name": "python3"
  },
  "language_info": {
   "codemirror_mode": {
    "name": "ipython",
    "version": 3
   },
   "file_extension": ".py",
   "mimetype": "text/x-python",
   "name": "python",
   "nbconvert_exporter": "python",
   "pygments_lexer": "ipython3",
   "version": "3.11.9"
  }
 },
 "nbformat": 4,
 "nbformat_minor": 2
}
